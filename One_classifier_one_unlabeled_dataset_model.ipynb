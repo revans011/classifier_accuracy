{
  "nbformat": 4,
  "nbformat_minor": 0,
  "metadata": {
    "colab": {
      "name": "One classifier one unlabeled dataset model.ipynb",
      "provenance": [],
      "collapsed_sections": [],
      "authorship_tag": "ABX9TyN+qwcmtBA7dA2IwCHOwaF0",
      "include_colab_link": true
    },
    "kernelspec": {
      "name": "python3",
      "display_name": "Python 3"
    },
    "language_info": {
      "name": "python"
    },
    "gpuClass": "standard"
  },
  "cells": [
    {
      "cell_type": "markdown",
      "metadata": {
        "id": "view-in-github",
        "colab_type": "text"
      },
      "source": [
        "<a href=\"https://colab.research.google.com/github/revans011/classifier_accuracy/blob/main/One_classifier_one_unlabeled_dataset_model.ipynb\" target=\"_parent\"><img src=\"https://colab.research.google.com/assets/colab-badge.svg\" alt=\"Open In Colab\"/></a>"
      ]
    },
    {
      "cell_type": "markdown",
      "source": [
        "#Classifier accuracy using unlabeled data\n",
        "This notebook has a Bayesian model and MCMC code for the one-classifier, one-unlabeled-dataset model to determine the confusion matrix and assesses the accuracy of binary classifiers on unlabeled data."
      ],
      "metadata": {
        "id": "jnz5LD57RS2O"
      }
    },
    {
      "cell_type": "markdown",
      "source": [
        "#Definition\n",
        "One of the model parameters is the \"prevalence\" of the dataset.  *If the data were labeled*, \"prevalence\" is the proportion of $1$'s in the dataset. However, the data aren't labeled, so prevalence is a model parameter instead of a known constant. Prevalence comes from this model's origins in diagnostic test assesment and the unkown prevalence of disease in a population of animals."
      ],
      "metadata": {
        "id": "djakkt3EM1nS"
      }
    },
    {
      "cell_type": "markdown",
      "source": [
        "#The Data\n",
        "The model uses the binary predictions of one binary classifers (supervised or unsupervised) from one unlabeled dataset.\n",
        "\n",
        "\\\n",
        "\n",
        "**A simple example**: \\\n",
        "\\\n",
        "For dataset 1, the lists might be \\\n",
        " \\\n",
        "\n",
        "Classifier A: [1,0,1,1,0,1,1,0] \\\n",
        "Classifier B: [1,1,1,1,0,0,0,0] \n",
        "\n",
        "\\\n",
        "\n",
        "Next, it is a useful heuristic to arrange two predictions into a counts, in a 2x2 table. The first element is the count of (1,1)'s, the last element is the count of the (0,0)'s, the second element is the number of times classifer A is 1 and classifier B is 0 (i.e., (1,0)) and the third element is the number of times the classifer A is 0 and classifer B is 1 (i.e., (0,1)).\n",
        "\n",
        "\n",
        "\n",
        "\\begin{array}{cc|cl}\n",
        "      &    &    \\text{Classifier A}\\\\ \n",
        "      &    &     1&       0 \\\\ \\hline\n",
        " \\text{Classifer B}  &    1&  3&       2  \\\\\n",
        "      &    0&    1&       2  \\\\\n",
        "\\end{array}\n",
        " \n",
        "<br>\n",
        "\n",
        "**We will use the list form, [3,2,1,2], in the code. It is not necessary to make a 2x2 table**. We also use the length of the prediction list, $n$\n",
        "\n",
        "\n",
        "In this notebook, I use the data within the definition of the likelihood function. **It's a little hard to spot in the code, and I've commented where it happens.**\n"
      ],
      "metadata": {
        "id": "zyotFvK5SnJ4"
      }
    },
    {
      "cell_type": "markdown",
      "source": [
        "#The prior distribtions\n",
        "The prior distributions for the sensitivities, specificities, and prevalences are all Beta distributions. Even with an identifiable model, like the one presented here, sensible priors help MCMC convergence. Branscum et al. (2005) developed the very useful Windows app \"BetaBuster\" to help elicit Beta  distribution parameters. Alternatively, use this [website's](https://www.omnicalculator.com/statistics/beta-distribution) online calculator. The idea is to find Beta distribution parameters, $\\alpha$ and $\\beta$, that reflect resonable assumptions. \n",
        "\n",
        "For example, if a previouly trained supervised classifier is in the model, then its sensitivity and specificity were most likely assessed on a labeled dataset sometime previously and are good. Then it would be reasonable to pick Beta paramenters $\\alpha$ and $\\beta$ such that $Pr(x>0.5)=90\\%$"
      ],
      "metadata": {
        "id": "kgrUUCCVacil"
      }
    },
    {
      "cell_type": "markdown",
      "source": [
        "#Assumptions\n",
        "This model has one mild assumptions\n",
        "1. The two classifiers are independent. In practice, that means that the classifiers should be different kinds of classifiers. For example, a classification tree and and KNN, rather than two classification trees with different numbers of leaves.\n"
      ],
      "metadata": {
        "id": "v5SLMd_kcpbu"
      }
    },
    {
      "cell_type": "markdown",
      "source": [
        "#References\n",
        "1. Evans, R. (2022). Confusion Matrices and Accuracy Statistics for Binary Classifiers Using Unlabeled Data: The Diagnostic Test Approach. arXiv:2208.12664 \\[stat.ML\\]\n",
        "\n",
        "1. Branscum, A. J., Gardner, I. A., and Johnson, W. O. (2005). Estimation of diagnostic-test sensitivity and specificity through Bayesian modeling. Preventive Veterinary Medicine, 68, 145-163.\n",
        "\n",
        "1. We used the [emcee](https://arxiv.org/abs/1202.3665) ensemble sampler for the MCMC\n",
        "\n",
        "1. This paper set up the underpinnings:  \\\n",
        "Hui, Sui L., and Walter, S.D. (1980). Estimating the error rates of diagnostic tests. Biometrics 167-171.\n",
        "\n"
      ],
      "metadata": {
        "id": "rc3TxPZTGSMG"
      }
    },
    {
      "cell_type": "markdown",
      "source": [
        "Copyright (c) <2022>, <Richard Evans>\n",
        "All rights reserved.\n",
        "\n",
        "This source code is licensed under the MIT license found in the\n",
        "LICENSE file in the root directory of this source tree. "
      ],
      "metadata": {
        "id": "LKtmF_BpRU0w"
      }
    },
    {
      "cell_type": "code",
      "source": [
        "import numpy as np\n",
        "import matplotlib.pyplot as plt\n",
        "import scipy.stats as sp\n",
        "import pandas as pd\n",
        "!pip install emcee\n",
        "from scipy.stats import beta\n",
        "from scipy.stats import binom\n",
        "import emcee\n",
        "np.seterr(all=\"ignore\") #supresses  \"the invalid value encountered in double_scalars lnpdiff = f + nlp - state.log_prob[j]\" warning--it doesn't affect the MCMC\n"
      ],
      "metadata": {
        "id": "SNxJFm8IR7Q2",
        "colab": {
          "base_uri": "https://localhost:8080/"
        },
        "outputId": "8ca9960e-5ddf-4d92-e39d-c14b3d970588"
      },
      "execution_count": null,
      "outputs": [
        {
          "output_type": "stream",
          "name": "stdout",
          "text": [
            "Looking in indexes: https://pypi.org/simple, https://us-python.pkg.dev/colab-wheels/public/simple/\n",
            "Collecting emcee\n",
            "  Downloading emcee-3.1.2-py2.py3-none-any.whl (46 kB)\n",
            "\u001b[K     |████████████████████████████████| 46 kB 1.7 MB/s \n",
            "\u001b[?25hRequirement already satisfied: numpy in /usr/local/lib/python3.7/dist-packages (from emcee) (1.21.6)\n",
            "Installing collected packages: emcee\n",
            "Successfully installed emcee-3.1.2\n"
          ]
        },
        {
          "output_type": "execute_result",
          "data": {
            "text/plain": [
              "{'divide': 'warn', 'over': 'warn', 'under': 'ignore', 'invalid': 'warn'}"
            ]
          },
          "metadata": {},
          "execution_count": 1
        }
      ]
    },
    {
      "cell_type": "markdown",
      "source": [
        "#The model specification"
      ],
      "metadata": {
        "id": "M_XX40T-HF4a"
      }
    },
    {
      "cell_type": "code",
      "source": [
        "\n",
        "\n",
        "#The prior distribution for the sensitivity\n",
        "def log_prior_seA(se):  \n",
        "    a,b = 20,4\n",
        "    if se<=0.0: \n",
        "      return -np.inf\n",
        "    elif se>=1.0: \n",
        "      return np.inf\n",
        "    else: \n",
        "      return np.log(beta.pdf(se,a,b))\n",
        "\n",
        "\n",
        "#The prior distribution for the specificity\n",
        "def log_prior_spA(sp):  \n",
        "    a,b = 20,4\n",
        "    if sp<=0.0: \n",
        "      return -np.inf\n",
        "    elif sp>=1.0: \n",
        "      return np.inf\n",
        "    else: \n",
        "      return np.log(beta.pdf(sp,a,b))\n",
        "\n",
        "\n",
        "\n",
        "\n",
        "#The prior distribution for the prevalence\n",
        "def log_prior_prev1(prev):  \n",
        "    a,b = 1,1\n",
        "    if prev<=0.0: \n",
        "      return -np.inf\n",
        "    elif prev>=1.0: \n",
        "      return np.inf\n",
        "    else: \n",
        "      return np.log(beta.pdf(prev,a,b))\n",
        "\n",
        "\n",
        "#the likelihood\n",
        "def log_binomial1(seA,spA,prev1):\n",
        "\n",
        "    k = 90  #The data go here. k is the count of 1's in the prediction list\n",
        "    n = 100 # the length of the prediction list      \n",
        "\n",
        "    p = prev1*seA + (1-prev1)*(1-spA)  \n",
        "    \n",
        "    if p<=0.0: \n",
        "      return -np.inf\n",
        "    elif p>=1.0: \n",
        "      return np.inf\n",
        "    else: \n",
        "      return np.log(sp.binom.pmf(k, n=n, p=p))\n",
        "\n",
        "\n",
        "#the log posterior distribtion\n",
        "def log_post(theta):\n",
        "    seA,spA,prev1 = theta\n",
        "    sum_priors = log_prior_seA(seA) + log_prior_spA(spA) + \\\n",
        "                 log_prior_prev1(prev1)\n",
        "\n",
        "    lnprobval = log_binomial1(seA,spA,prev1) + sum_priors\n",
        "    if not np.isfinite(sum_priors):      #this if statement is from the emcee example\n",
        "        return -np.inf\n",
        "    return(lnprobval)\n",
        "\n"
      ],
      "metadata": {
        "id": "6FNAKrkXQ_Do"
      },
      "execution_count": null,
      "outputs": []
    },
    {
      "cell_type": "markdown",
      "source": [
        "#Running the ensemble sampler"
      ],
      "metadata": {
        "id": "w98iUbvOKww5"
      }
    },
    {
      "cell_type": "code",
      "source": [
        "%%time\n",
        "\n",
        "ndim, nwalkers = 3, 9 #There are 3 dimensions (one sensitivity, one specificity, and one prevalence). I often use nwalkers = 3 x ndim\n",
        "\n",
        "# Starting positions for the walkers.\n",
        "p0 = [0.5 +(1e-2 * np.random.rand(ndim)) for i in range(nwalkers)]\n",
        "\n",
        "#make the sampler\n",
        "sampler = emcee.EnsembleSampler(nwalkers, ndim, log_post)\n",
        "\n",
        "#Run the sampler\n",
        "_ = sampler.run_mcmc(p0, nsteps=100000)\n"
      ],
      "metadata": {
        "id": "HyNqNl58S5Mm",
        "colab": {
          "base_uri": "https://localhost:8080/"
        },
        "outputId": "dcf54301-996e-48c1-9dd8-50b75a4b4af7"
      },
      "execution_count": null,
      "outputs": [
        {
          "output_type": "stream",
          "name": "stdout",
          "text": [
            "CPU times: user 6min 58s, sys: 3.46 s, total: 7min 1s\n",
            "Wall time: 7min 3s\n"
          ]
        }
      ]
    },
    {
      "cell_type": "markdown",
      "source": [
        "The counts in the above table are the lengths of the Markov chains after burn in and thinning."
      ],
      "metadata": {
        "id": "qERG8qPEpayw"
      }
    },
    {
      "cell_type": "markdown",
      "source": [
        "#Establishing convergence: Trace plots\n",
        "There are many ways to verify that the Markov Chains are a representative sample from the posterior distribution. I used an overly simple approach here becuase the focus of this notebook is on the model specification, rather than a particular MCMC methodology."
      ],
      "metadata": {
        "id": "LEuyFPV_OwGX"
      }
    },
    {
      "cell_type": "code",
      "source": [
        "fig, axes = plt.subplots(3, figsize=(10, 7), sharex=True)\n",
        "samples = sampler.get_chain()\n",
        "labels = [\"SeA\", \"SpA\", \"Prev\"]\n",
        "for i in range(ndim):\n",
        "    ax = axes[i]\n",
        "    ax.plot(samples[:, :, i], \"k\", alpha=0.3)\n",
        "    ax.set_xlim(0, len(samples))\n",
        "    ax.set_ylabel(labels[i])\n",
        "    ax.yaxis.set_label_coords(-0.1, 0.5)\n",
        "\n",
        "axes[-1].set_xlabel(\"step number\");"
      ],
      "metadata": {
        "colab": {
          "base_uri": "https://localhost:8080/",
          "height": 442
        },
        "id": "ktcAZBanpvSu",
        "outputId": "bd517fdd-75a3-46c2-cad5-ace27fdbf01d"
      },
      "execution_count": null,
      "outputs": [
        {
          "output_type": "display_data",
          "data": {
            "text/plain": [
              "<Figure size 720x504 with 3 Axes>"
            ],
            "image/png": "[encoded data removed]"
          },
          "metadata": {
            "needs_background": "light"
          }
        }
      ]
    },
    {
      "cell_type": "markdown",
      "source": [
        "Each plot above has *ndim* number of walkers"
      ],
      "metadata": {
        "id": "o8p3LrwrhvTj"
      }
    },
    {
      "cell_type": "markdown",
      "source": [
        "#Thin and remove the burn in "
      ],
      "metadata": {
        "id": "jkbdT-DFYjMY"
      }
    },
    {
      "cell_type": "code",
      "source": [
        "#A snippet from the emcee website\n",
        "print(\n",
        "    \"Mean autocorrelation time: {0:.3f} steps (the number of steps needed to forget)\".format(\n",
        "        np.mean(sampler.get_autocorr_time())\n",
        "    )\n",
        ")"
      ],
      "metadata": {
        "colab": {
          "base_uri": "https://localhost:8080/"
        },
        "id": "TuxKlkeEM60P",
        "outputId": "cd22b944-c27b-4fd5-c5bd-5e7a3b3500ec"
      },
      "execution_count": null,
      "outputs": [
        {
          "output_type": "stream",
          "name": "stdout",
          "text": [
            "Mean autocorrelation time: 57.814 steps (the number of steps needed to forget)\n"
          ]
        }
      ]
    },
    {
      "cell_type": "code",
      "source": [
        "#For each step in the chain, I take the median across the walkers. That gives a single chain for each of the six parameters\n",
        "\n",
        "thin = 50 #thin the chains to reduce autocorrelation. Pick a number larger than the mean autocorrelation time for thinning\n",
        "burn_in =100\n",
        "\n",
        "\n",
        "df_parameter_chains = pd.concat([pd.DataFrame(sampler.get_chain(thin=thin, discard=burn_in)[:,:,0]).median(axis=1),\n",
        "                                pd.DataFrame(sampler.get_chain(thin=thin, discard=burn_in)[:,:,1]).median(axis=1),\n",
        "                                pd.DataFrame(sampler.get_chain(thin=thin, discard=burn_in)[:,:,2]).median(axis=1)],axis=1)\n",
        "\n",
        "df_parameter_chains.columns =['Sensitivity', 'Specificity', 'Prevalence']\n",
        "\n"
      ],
      "metadata": {
        "id": "GqALZYsgaYGv"
      },
      "execution_count": null,
      "outputs": []
    },
    {
      "cell_type": "code",
      "source": [
        "#A snippet from the emcee website\n",
        "print(\n",
        "    \"Mean acceptance fraction: {0:.3f}\".format(\n",
        "        np.mean(sampler.acceptance_fraction)\n",
        "    )\n",
        ")"
      ],
      "metadata": {
        "colab": {
          "base_uri": "https://localhost:8080/"
        },
        "id": "wpPegCNAM5ys",
        "outputId": "0b4274a5-617d-409e-b8f7-6813539b7637"
      },
      "execution_count": null,
      "outputs": [
        {
          "output_type": "stream",
          "name": "stdout",
          "text": [
            "Mean acceptance fraction: 0.604\n"
          ]
        }
      ]
    },
    {
      "cell_type": "markdown",
      "source": [
        "#Posterior summaries (point estimates) for classifier sensitivity, <br> specificity, and dataset prevalence\n",
        "For example, for the classifier that produced the data for this analysis, we might use the medians and say the classifier's sensitivity is an appalling 0.499561\n"
      ],
      "metadata": {
        "id": "tOrEfAstl2op"
      }
    },
    {
      "cell_type": "code",
      "source": [
        "#summary statistics from the estimated posterior distributions of the parameters\n",
        "df_parameter_chains.describe().round(decimals=3)"
      ],
      "metadata": {
        "id": "yy_669m3vpxD",
        "colab": {
          "base_uri": "https://localhost:8080/",
          "height": 300
        },
        "outputId": "fa376779-9d50-414e-9625-b170a13032fb"
      },
      "execution_count": null,
      "outputs": [
        {
          "output_type": "execute_result",
          "data": {
            "text/plain": [
              "       Sensitivity  Specificity  Prevalence\n",
              "count     1998.000     1998.000    1998.000\n",
              "mean         0.911        0.833       0.958\n",
              "std          0.013        0.032       0.016\n",
              "min          0.859        0.699       0.869\n",
              "25%          0.902        0.813       0.948\n",
              "50%          0.911        0.836       0.959\n",
              "75%          0.919        0.854       0.969\n",
              "max          0.951        0.929       0.994"
            ],
            "text/html": [
              "\n",
              "  <div id=\"df-4740e802-a098-4c46-931b-a78e49bfe34b\">\n",
              "    <div class=\"colab-df-container\">\n",
              "      <div>\n",
              "<style scoped>\n",
              "    .dataframe tbody tr th:only-of-type {\n",
              "        vertical-align: middle;\n",
              "    }\n",
              "\n",
              "    .dataframe tbody tr th {\n",
              "        vertical-align: top;\n",
              "    }\n",
              "\n",
              "    .dataframe thead th {\n",
              "        text-align: right;\n",
              "    }\n",
              "</style>\n",
              "<table border=\"1\" class=\"dataframe\">\n",
              "  <thead>\n",
              "    <tr style=\"text-align: right;\">\n",
              "      <th></th>\n",
              "      <th>Sensitivity</th>\n",
              "      <th>Specificity</th>\n",
              "      <th>Prevalence</th>\n",
              "    </tr>\n",
              "  </thead>\n",
              "  <tbody>\n",
              "    <tr>\n",
              "      <th>count</th>\n",
              "      <td>1998.000</td>\n",
              "      <td>1998.000</td>\n",
              "      <td>1998.000</td>\n",
              "    </tr>\n",
              "    <tr>\n",
              "      <th>mean</th>\n",
              "      <td>0.911</td>\n",
              "      <td>0.833</td>\n",
              "      <td>0.958</td>\n",
              "    </tr>\n",
              "    <tr>\n",
              "      <th>std</th>\n",
              "      <td>0.013</td>\n",
              "      <td>0.032</td>\n",
              "      <td>0.016</td>\n",
              "    </tr>\n",
              "    <tr>\n",
              "      <th>min</th>\n",
              "      <td>0.859</td>\n",
              "      <td>0.699</td>\n",
              "      <td>0.869</td>\n",
              "    </tr>\n",
              "    <tr>\n",
              "      <th>25%</th>\n",
              "      <td>0.902</td>\n",
              "      <td>0.813</td>\n",
              "      <td>0.948</td>\n",
              "    </tr>\n",
              "    <tr>\n",
              "      <th>50%</th>\n",
              "      <td>0.911</td>\n",
              "      <td>0.836</td>\n",
              "      <td>0.959</td>\n",
              "    </tr>\n",
              "    <tr>\n",
              "      <th>75%</th>\n",
              "      <td>0.919</td>\n",
              "      <td>0.854</td>\n",
              "      <td>0.969</td>\n",
              "    </tr>\n",
              "    <tr>\n",
              "      <th>max</th>\n",
              "      <td>0.951</td>\n",
              "      <td>0.929</td>\n",
              "      <td>0.994</td>\n",
              "    </tr>\n",
              "  </tbody>\n",
              "</table>\n",
              "</div>\n",
              "      <button class=\"colab-df-convert\" onclick=\"convertToInteractive('df-4740e802-a098-4c46-931b-a78e49bfe34b')\"\n",
              "              title=\"Convert this dataframe to an interactive table.\"\n",
              "              style=\"display:none;\">\n",
              "        \n",
              "  <svg xmlns=\"http://www.w3.org/2000/svg\" height=\"24px\"viewBox=\"0 0 24 24\"\n",
              "       width=\"24px\">\n",
              "    <path d=\"M0 0h24v24H0V0z\" fill=\"none\"/>\n",
              "    <path d=\"M18.56 5.44l.94 2.06.94-2.06 2.06-.94-2.06-.94-.94-2.06-.94 2.06-2.06.94zm-11 1L8.5 8.5l.94-2.06 2.06-.94-2.06-.94L8.5 2.5l-.94 2.06-2.06.94zm10 10l.94 2.06.94-2.06 2.06-.94-2.06-.94-.94-2.06-.94 2.06-2.06.94z\"/><path d=\"M17.41 7.96l-1.37-1.37c-.4-.4-.92-.59-1.43-.59-.52 0-1.04.2-1.43.59L10.3 9.45l-7.72 7.72c-.78.78-.78 2.05 0 2.83L4 21.41c.39.39.9.59 1.41.59.51 0 1.02-.2 1.41-.59l7.78-7.78 2.81-2.81c.8-.78.8-2.07 0-2.86zM5.41 20L4 18.59l7.72-7.72 1.47 1.35L5.41 20z\"/>\n",
              "  </svg>\n",
              "      </button>\n",
              "      \n",
              "  <style>\n",
              "    .colab-df-container {\n",
              "      display:flex;\n",
              "      flex-wrap:wrap;\n",
              "      gap: 12px;\n",
              "    }\n",
              "\n",
              "    .colab-df-convert {\n",
              "      background-color: #E8F0FE;\n",
              "      border: none;\n",
              "      border-radius: 50%;\n",
              "      cursor: pointer;\n",
              "      display: none;\n",
              "      fill: #1967D2;\n",
              "      height: 32px;\n",
              "      padding: 0 0 0 0;\n",
              "      width: 32px;\n",
              "    }\n",
              "\n",
              "    .colab-df-convert:hover {\n",
              "      background-color: #E2EBFA;\n",
              "      box-shadow: 0px 1px 2px rgba(60, 64, 67, 0.3), 0px 1px 3px 1px rgba(60, 64, 67, 0.15);\n",
              "      fill: #174EA6;\n",
              "    }\n",
              "\n",
              "    [theme=dark] .colab-df-convert {\n",
              "      background-color: #3B4455;\n",
              "      fill: #D2E3FC;\n",
              "    }\n",
              "\n",
              "    [theme=dark] .colab-df-convert:hover {\n",
              "      background-color: #434B5C;\n",
              "      box-shadow: 0px 1px 3px 1px rgba(0, 0, 0, 0.15);\n",
              "      filter: drop-shadow(0px 1px 2px rgba(0, 0, 0, 0.3));\n",
              "      fill: #FFFFFF;\n",
              "    }\n",
              "  </style>\n",
              "\n",
              "      <script>\n",
              "        const buttonEl =\n",
              "          document.querySelector('#df-4740e802-a098-4c46-931b-a78e49bfe34b button.colab-df-convert');\n",
              "        buttonEl.style.display =\n",
              "          google.colab.kernel.accessAllowed ? 'block' : 'none';\n",
              "\n",
              "        async function convertToInteractive(key) {\n",
              "          const element = document.querySelector('#df-4740e802-a098-4c46-931b-a78e49bfe34b');\n",
              "          const dataTable =\n",
              "            await google.colab.kernel.invokeFunction('convertToInteractive',\n",
              "                                                     [key], {});\n",
              "          if (!dataTable) return;\n",
              "\n",
              "          const docLinkHtml = 'Like what you see? Visit the ' +\n",
              "            '<a target=\"_blank\" href=https://colab.research.google.com/notebooks/data_table.ipynb>data table notebook</a>'\n",
              "            + ' to learn more about interactive tables.';\n",
              "          element.innerHTML = '';\n",
              "          dataTable['output_type'] = 'display_data';\n",
              "          await google.colab.output.renderOutput(dataTable, element);\n",
              "          const docLink = document.createElement('div');\n",
              "          docLink.innerHTML = docLinkHtml;\n",
              "          element.appendChild(docLink);\n",
              "        }\n",
              "      </script>\n",
              "    </div>\n",
              "  </div>\n",
              "  "
            ]
          },
          "metadata": {},
          "execution_count": 8
        }
      ]
    },
    {
      "cell_type": "code",
      "source": [],
      "metadata": {
        "id": "5rB0QsEP8yCh"
      },
      "execution_count": null,
      "outputs": []
    },
    {
      "cell_type": "code",
      "source": [
        "#Some histograms\n",
        "from matplotlib import pyplot\n",
        "\n",
        "x = df_parameter_chains['Sensitivity']\n",
        "y = df_parameter_chains['Specificity']\n",
        "z = df_parameter_chains['Prevalence']\n",
        "\n",
        "bins = np.linspace(0, 1, 50)\n",
        "\n",
        "pyplot.hist(x, bins, alpha=0.5, label='Sensitivity')\n",
        "pyplot.hist(y, bins, alpha=0.5, label='Specificity')\n",
        "pyplot.hist(z, bins, alpha=0.5, label='Prevalence')\n",
        "pyplot.legend(loc='upper right')\n",
        "pyplot.title('Histograms of parameter posterior distributions for one classifier')\n",
        "pyplot.show()"
      ],
      "metadata": {
        "id": "wPVmB1555qdO",
        "colab": {
          "base_uri": "https://localhost:8080/",
          "height": 281
        },
        "outputId": "3c6ed212-fb41-4bce-830a-fd741a790fab"
      },
      "execution_count": null,
      "outputs": [
        {
          "output_type": "display_data",
          "data": {
            "text/plain": [
              "<Figure size 432x288 with 1 Axes>"
            ],
            "image/png": "[encoded data removed]"
          },
          "metadata": {
            "needs_background": "light"
          }
        }
      ]
    },
    {
      "cell_type": "markdown",
      "source": [
        "#Confusion Matrix\n",
        "\n",
        "The numbers in the top row are the sensitivity and 1-sensitivity, and in the bottom row, 1-specificity and specificity. Simply multiply the matrix by a sample size and round the decimal if you prefer integers in the confusion matrix."
      ],
      "metadata": {
        "id": "RNDdumy9vAyy"
      }
    },
    {
      "cell_type": "code",
      "source": [
        "import seaborn as sns\n",
        "from sklearn.metrics import confusion_matrix\n",
        "\n",
        "\n",
        "#make the elements of the confusion matrix\n",
        "cm11 = df_parameter_chains['Sensitivity'].median()\n",
        "cm12 = 1-df_parameter_chains['Sensitivity'].median()\n",
        "cm21 = 1-df_parameter_chains['Specificity'].median()\n",
        "cm22 = df_parameter_chains['Specificity'].median()\n",
        "\n",
        "\n",
        "cm = np.array([[cm11,cm12],[cm21,cm22]])\n",
        "\n",
        "#A snippet to plot a seaborn heatmap\n",
        "ax= plt.subplot()\n",
        "sns.heatmap(cm, annot=True, fmt='f', ax=ax);  \n",
        "\n",
        "# labels, title and ticks\n",
        "ax.set_xlabel('Predicted labels for classifier');ax.set_ylabel('True labels'); \n",
        "ax.set_title('Confusion Matrix for the Classifier'); \n",
        "ax.xaxis.set_ticklabels(['1', '0']); ax.yaxis.set_ticklabels(['1', '0']);"
      ],
      "metadata": {
        "id": "3nkbngaPIAId",
        "colab": {
          "base_uri": "https://localhost:8080/",
          "height": 295
        },
        "outputId": "84ee5b3f-4e77-4e60-8f55-91c97c4f15a2"
      },
      "execution_count": null,
      "outputs": [
        {
          "output_type": "display_data",
          "data": {
            "text/plain": [
              "<Figure size 432x288 with 2 Axes>"
            ],
            "image/png": "[encoded data removed]"
          },
          "metadata": {
            "needs_background": "light"
          }
        }
      ]
    },
    {
      "cell_type": "markdown",
      "source": [
        "#Accuracy summaries for classifier A\n",
        "The real advantage of using the Bayesian approach is that it's easy to express uncertain about estimates. The table below uses the estimates of the posterior distributions (the Markov chain from the emcee sampler) to give summaries. For example, the standard deviations (std) of the accuracy statistics (e.g., F1) represents uncertainty about the mean. Likewise the 25th and 75th percentiles give uncertain about the median. "
      ],
      "metadata": {
        "id": "iqtq5ANZAX_r"
      }
    },
    {
      "cell_type": "code",
      "source": [
        "se_A = df_parameter_chains['Sensitivity']                 #rename to simplify construction of the summary table\n",
        "sp_A = df_parameter_chains['Specificity']\n",
        "prev_1 = df_parameter_chains['Prevalence']\n",
        "ppv = (se_A * prev_1 /(se_A*prev_1 +((1-se_A)*(1-prev_1)))) #define the positive predictive value (ppv)\n",
        "\n",
        "\n",
        "df_accuracy = pd.concat([se_A*prev_1 + (sp_A*(1-prev_1)),   #combine four accuacy statisitcs into a pandas dataframe\n",
        "                      se_A,      \n",
        "                      ppv,     \n",
        "                      (2*ppv*se_A/(ppv+se_A))], axis=1)\n",
        "\n",
        "df_accuracy.columns = ['Accuracy','Recall','PPV','F1']      #label the columns\n",
        "\n",
        "df_accuracy.describe().round(decimals=3)"
      ],
      "metadata": {
        "id": "JBqgNg8KL1Bt",
        "colab": {
          "base_uri": "https://localhost:8080/",
          "height": 300
        },
        "outputId": "2c84e436-74cb-43b1-e353-c5979d2dfc91"
      },
      "execution_count": null,
      "outputs": [
        {
          "output_type": "execute_result",
          "data": {
            "text/plain": [
              "       Accuracy    Recall       PPV        F1\n",
              "count  1998.000  1998.000  1998.000  1998.000\n",
              "mean      0.907     0.911     0.996     0.951\n",
              "std       0.012     0.013     0.002     0.007\n",
              "min       0.859     0.859     0.989     0.922\n",
              "25%       0.900     0.902     0.995     0.947\n",
              "50%       0.907     0.911     0.996     0.951\n",
              "75%       0.916     0.919     0.997     0.956\n",
              "max       0.943     0.951     0.999     0.973"
            ],
            "text/html": [
              "\n",
              "  <div id=\"df-6a801f70-4db2-4762-815b-81dae305c877\">\n",
              "    <div class=\"colab-df-container\">\n",
              "      <div>\n",
              "<style scoped>\n",
              "    .dataframe tbody tr th:only-of-type {\n",
              "        vertical-align: middle;\n",
              "    }\n",
              "\n",
              "    .dataframe tbody tr th {\n",
              "        vertical-align: top;\n",
              "    }\n",
              "\n",
              "    .dataframe thead th {\n",
              "        text-align: right;\n",
              "    }\n",
              "</style>\n",
              "<table border=\"1\" class=\"dataframe\">\n",
              "  <thead>\n",
              "    <tr style=\"text-align: right;\">\n",
              "      <th></th>\n",
              "      <th>Accuracy</th>\n",
              "      <th>Recall</th>\n",
              "      <th>PPV</th>\n",
              "      <th>F1</th>\n",
              "    </tr>\n",
              "  </thead>\n",
              "  <tbody>\n",
              "    <tr>\n",
              "      <th>count</th>\n",
              "      <td>1998.000</td>\n",
              "      <td>1998.000</td>\n",
              "      <td>1998.000</td>\n",
              "      <td>1998.000</td>\n",
              "    </tr>\n",
              "    <tr>\n",
              "      <th>mean</th>\n",
              "      <td>0.907</td>\n",
              "      <td>0.911</td>\n",
              "      <td>0.996</td>\n",
              "      <td>0.951</td>\n",
              "    </tr>\n",
              "    <tr>\n",
              "      <th>std</th>\n",
              "      <td>0.012</td>\n",
              "      <td>0.013</td>\n",
              "      <td>0.002</td>\n",
              "      <td>0.007</td>\n",
              "    </tr>\n",
              "    <tr>\n",
              "      <th>min</th>\n",
              "      <td>0.859</td>\n",
              "      <td>0.859</td>\n",
              "      <td>0.989</td>\n",
              "      <td>0.922</td>\n",
              "    </tr>\n",
              "    <tr>\n",
              "      <th>25%</th>\n",
              "      <td>0.900</td>\n",
              "      <td>0.902</td>\n",
              "      <td>0.995</td>\n",
              "      <td>0.947</td>\n",
              "    </tr>\n",
              "    <tr>\n",
              "      <th>50%</th>\n",
              "      <td>0.907</td>\n",
              "      <td>0.911</td>\n",
              "      <td>0.996</td>\n",
              "      <td>0.951</td>\n",
              "    </tr>\n",
              "    <tr>\n",
              "      <th>75%</th>\n",
              "      <td>0.916</td>\n",
              "      <td>0.919</td>\n",
              "      <td>0.997</td>\n",
              "      <td>0.956</td>\n",
              "    </tr>\n",
              "    <tr>\n",
              "      <th>max</th>\n",
              "      <td>0.943</td>\n",
              "      <td>0.951</td>\n",
              "      <td>0.999</td>\n",
              "      <td>0.973</td>\n",
              "    </tr>\n",
              "  </tbody>\n",
              "</table>\n",
              "</div>\n",
              "      <button class=\"colab-df-convert\" onclick=\"convertToInteractive('df-6a801f70-4db2-4762-815b-81dae305c877')\"\n",
              "              title=\"Convert this dataframe to an interactive table.\"\n",
              "              style=\"display:none;\">\n",
              "        \n",
              "  <svg xmlns=\"http://www.w3.org/2000/svg\" height=\"24px\"viewBox=\"0 0 24 24\"\n",
              "       width=\"24px\">\n",
              "    <path d=\"M0 0h24v24H0V0z\" fill=\"none\"/>\n",
              "    <path d=\"M18.56 5.44l.94 2.06.94-2.06 2.06-.94-2.06-.94-.94-2.06-.94 2.06-2.06.94zm-11 1L8.5 8.5l.94-2.06 2.06-.94-2.06-.94L8.5 2.5l-.94 2.06-2.06.94zm10 10l.94 2.06.94-2.06 2.06-.94-2.06-.94-.94-2.06-.94 2.06-2.06.94z\"/><path d=\"M17.41 7.96l-1.37-1.37c-.4-.4-.92-.59-1.43-.59-.52 0-1.04.2-1.43.59L10.3 9.45l-7.72 7.72c-.78.78-.78 2.05 0 2.83L4 21.41c.39.39.9.59 1.41.59.51 0 1.02-.2 1.41-.59l7.78-7.78 2.81-2.81c.8-.78.8-2.07 0-2.86zM5.41 20L4 18.59l7.72-7.72 1.47 1.35L5.41 20z\"/>\n",
              "  </svg>\n",
              "      </button>\n",
              "      \n",
              "  <style>\n",
              "    .colab-df-container {\n",
              "      display:flex;\n",
              "      flex-wrap:wrap;\n",
              "      gap: 12px;\n",
              "    }\n",
              "\n",
              "    .colab-df-convert {\n",
              "      background-color: #E8F0FE;\n",
              "      border: none;\n",
              "      border-radius: 50%;\n",
              "      cursor: pointer;\n",
              "      display: none;\n",
              "      fill: #1967D2;\n",
              "      height: 32px;\n",
              "      padding: 0 0 0 0;\n",
              "      width: 32px;\n",
              "    }\n",
              "\n",
              "    .colab-df-convert:hover {\n",
              "      background-color: #E2EBFA;\n",
              "      box-shadow: 0px 1px 2px rgba(60, 64, 67, 0.3), 0px 1px 3px 1px rgba(60, 64, 67, 0.15);\n",
              "      fill: #174EA6;\n",
              "    }\n",
              "\n",
              "    [theme=dark] .colab-df-convert {\n",
              "      background-color: #3B4455;\n",
              "      fill: #D2E3FC;\n",
              "    }\n",
              "\n",
              "    [theme=dark] .colab-df-convert:hover {\n",
              "      background-color: #434B5C;\n",
              "      box-shadow: 0px 1px 3px 1px rgba(0, 0, 0, 0.15);\n",
              "      filter: drop-shadow(0px 1px 2px rgba(0, 0, 0, 0.3));\n",
              "      fill: #FFFFFF;\n",
              "    }\n",
              "  </style>\n",
              "\n",
              "      <script>\n",
              "        const buttonEl =\n",
              "          document.querySelector('#df-6a801f70-4db2-4762-815b-81dae305c877 button.colab-df-convert');\n",
              "        buttonEl.style.display =\n",
              "          google.colab.kernel.accessAllowed ? 'block' : 'none';\n",
              "\n",
              "        async function convertToInteractive(key) {\n",
              "          const element = document.querySelector('#df-6a801f70-4db2-4762-815b-81dae305c877');\n",
              "          const dataTable =\n",
              "            await google.colab.kernel.invokeFunction('convertToInteractive',\n",
              "                                                     [key], {});\n",
              "          if (!dataTable) return;\n",
              "\n",
              "          const docLinkHtml = 'Like what you see? Visit the ' +\n",
              "            '<a target=\"_blank\" href=https://colab.research.google.com/notebooks/data_table.ipynb>data table notebook</a>'\n",
              "            + ' to learn more about interactive tables.';\n",
              "          element.innerHTML = '';\n",
              "          dataTable['output_type'] = 'display_data';\n",
              "          await google.colab.output.renderOutput(dataTable, element);\n",
              "          const docLink = document.createElement('div');\n",
              "          docLink.innerHTML = docLinkHtml;\n",
              "          element.appendChild(docLink);\n",
              "        }\n",
              "      </script>\n",
              "    </div>\n",
              "  </div>\n",
              "  "
            ]
          },
          "metadata": {},
          "execution_count": 11
        }
      ]
    },
    {
      "cell_type": "markdown",
      "source": [
        "#Discussion\n",
        "The model specification presented in this notebook allows the estimation of senstivity and specificity using unlabeled data. The model has been used successfully in biostatistics for over 40 years. That said, the Markov chains may be highly correlated and caution is alway required running MCMC."
      ],
      "metadata": {
        "id": "wHy4kBse-RxG"
      }
    },
    {
      "cell_type": "code",
      "source": [],
      "metadata": {
        "id": "x_09JXtwvKA8"
      },
      "execution_count": null,
      "outputs": []
    }
  ]
}