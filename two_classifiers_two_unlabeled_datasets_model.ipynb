{
  "cells": [
    {
      "cell_type": "markdown",
      "metadata": {
        "id": "view-in-github",
        "colab_type": "text"
      },
      "source": [
        "<a href=\"https://colab.research.google.com/github/revans011/classifier_accuracy/blob/main/two_classifiers_two_unlabeled_datasets_model.ipynb\" target=\"_parent\"><img src=\"https://colab.research.google.com/assets/colab-badge.svg\" alt=\"Open In Colab\"/></a>"
      ]
    },
    {
      "cell_type": "markdown",
      "metadata": {
        "id": "jnz5LD57RS2O"
      },
      "source": [
        "#Classifier accuracy using two unlabeled datasets\n",
        "This notebook has a Bayesian model and MCMC code for the two-classifier, two-unlabeled-dataset model to determine the confusion matrix and assesses the accuracy of binary classifiers on unlabeled data."
      ]
    },
    {
      "cell_type": "markdown",
      "metadata": {
        "id": "djakkt3EM1nS"
      },
      "source": [
        "#Definition\n",
        "Two of the model parameters are the \"prevalences\" of the two datasets.  *If the data were labeled*, \"prevalence\" is the proportion of $1$'s in the dataset. However, the data aren't labeled, so prevalence is a model parameter instead of a known constant. Prevalence comes from this model's origins in diagnostic test assesment and unkown the prevalence of disease in a population of animals."
      ]
    },
    {
      "cell_type": "markdown",
      "metadata": {
        "id": "zyotFvK5SnJ4"
      },
      "source": [
        "#The Data\n",
        "The model uses the binary predictions of two different binary classifers (they can be supervised or unsupervised) from unlabeled datasets. So, there are two prediction lists, one for each classifier\n",
        "\n",
        "\\\n",
        "\n",
        "**A simple example**: \\\n",
        "\n",
        "For dataset 1, the lists might be \n",
        "\n",
        "\n",
        "Classifier A: [1,0,1,1,0,1,1,0] \\\n",
        "Classifier B: [1,1,1,1,0,0,0,0] \n",
        "\n",
        "\n",
        "\n",
        "Next, it is a useful heuristic to arrange two predictions into a counts, in a 2x2 table. The first element is the count of (1,1)'s, the last element is the count of the (0,0)'s, the second element is the number of times classifer A is 1 and classifier B is 0 (i.e., (1,0)) and the third element is the number of times the classifer A is 0 and classifer B is 1 (i.e., (0,1)).\n",
        "\n",
        "\n",
        "\n",
        "\\begin{array}{cc|cl}\n",
        "      &    &    \\text{Classifier A}\\\\ \n",
        "      &    &     1&       0 \\\\ \\hline\n",
        " \\text{Classifer B}  &    1&  3&       2  \\\\\n",
        "      &    0&    1&       2  \\\\\n",
        "\\end{array}\n",
        " \n",
        "<br>\n",
        "\n",
        "**We will use the list form, [3,2,1,2], in the code. It is not necessary to make a 2x2 table**.  \n",
        "\n",
        "\n",
        " <br>\n",
        "For dataset 2, the arrays might be \n",
        "\n",
        "Classifier A: [1,0,1,1,0,1,0,0,0,1]  \\\n",
        "Classifier B: [1,1,1,1,0,0,0,0,0,0]  \\\\\n",
        "\n",
        "For dataset 2, the list is [3,2,3,4].\n",
        "\n",
        "\n",
        "For the code, we will use data in the form of [3,2,1,2] and [3,2,3,4], and also the lengths of the list, 8 and 12.\n",
        "\n",
        "\n",
        "In this notebook, I use the data within the definition of the likelihood function. **It's a little hard to spot in the code, and I've commented where it happens.**\n"
      ]
    },
    {
      "cell_type": "markdown",
      "metadata": {
        "id": "kgrUUCCVacil"
      },
      "source": [
        "#The prior distribtions\n",
        "The prior distributions for the sensitivities, specificities, and prevalences are all Beta distributions. Even with an identifiable model, like the one presented here, sensible priors help MCMC convergence. Branscum et al. (2005) developed the very useful Windows app \"BetaBuster\" to help elicit Beta  distribution parameters. Alternatively use this [website's](https://www.omnicalculator.com/statistics/beta-distribution) online calculator. The idea is to find Beta distribution parameters, $\\alpha$ and $\\beta$, that reflect resonable assumptions. \n",
        "\n",
        "For example, if a previouly trained supervised classifier is in the model, then its sensitivity and specificity were most likely assessed on a labeled dataset sometime previously and are good. Then it would be reasonable to pick Beta paramenters $\\alpha$ and $\\beta$ such that $Pr(x>0.5)=90\\%$"
      ]
    },
    {
      "cell_type": "markdown",
      "metadata": {
        "id": "v5SLMd_kcpbu"
      },
      "source": [
        "#Assumptions\n",
        "This model has two mild assumptions\n",
        "1. The two classifiers are independent. In practice, that means that the classifiers should be different kinds of classifiers. For example, a classification tree and and KNN, rather than two classification trees with different numbers of leaves.\n",
        "1. The datasets should have different prevalences. "
      ]
    },
    {
      "cell_type": "markdown",
      "metadata": {
        "id": "rc3TxPZTGSMG"
      },
      "source": [
        "#References\n",
        "1. Evans, R. (2022). Confusion Matrices and Accuracy Statistics for Binary Classifiers Using Unlabeled Data: The Diagnostic Test Approach. arXiv:2208.12664 \\[stat.ML\\]\n",
        "\n",
        "1. Branscum, A. J., Gardner, I. A., and Johnson, W. O. (2005). Estimation of diagnostic-test sensitivity and specificity through Bayesian modeling. Preventive Veterinary Medicine, 68, 145-163.\n",
        "\n",
        "1. We used the [emcee](https://arxiv.org/abs/1202.3665) ensemble sampler for the MCMC\n",
        "\n",
        "1. This paper set up the underpinnings:  \\\n",
        "Hui, Sui L., and Walter, S.D. (1980). Estimating the error rates of diagnostic tests. Biometrics 167-171.\n",
        "\n"
      ]
    },
    {
      "cell_type": "markdown",
      "metadata": {
        "id": "LKtmF_BpRU0w"
      },
      "source": [
        "Copyright (c) <2022>, <Richard Evans>\n",
        "All rights reserved.\n",
        "\n",
        "This source code is licensed under the MIT license found in the\n",
        "LICENSE file in the root directory of this source tree. "
      ]
    },
    {
      "cell_type": "code",
      "execution_count": null,
      "metadata": {
        "colab": {
          "base_uri": "https://localhost:8080/"
        },
        "id": "SNxJFm8IR7Q2",
        "outputId": "efb53549-2f87-48fb-96e9-efbeaebf91f3"
      },
      "outputs": [
        {
          "output_type": "stream",
          "name": "stdout",
          "text": [
            "Looking in indexes: https://pypi.org/simple, https://us-python.pkg.dev/colab-wheels/public/simple/\n",
            "Collecting emcee\n",
            "  Downloading emcee-3.1.2-py2.py3-none-any.whl (46 kB)\n",
            "\u001b[K     |████████████████████████████████| 46 kB 1.6 MB/s \n",
            "\u001b[?25hRequirement already satisfied: numpy in /usr/local/lib/python3.7/dist-packages (from emcee) (1.21.6)\n",
            "Installing collected packages: emcee\n",
            "Successfully installed emcee-3.1.2\n"
          ]
        },
        {
          "output_type": "execute_result",
          "data": {
            "text/plain": [
              "{'divide': 'warn', 'over': 'warn', 'under': 'ignore', 'invalid': 'warn'}"
            ]
          },
          "metadata": {},
          "execution_count": 1
        }
      ],
      "source": [
        "import numpy as np\n",
        "import matplotlib.pyplot as plt\n",
        "import scipy.stats as sp\n",
        "import pandas as pd\n",
        "!pip install emcee\n",
        "from scipy.stats import beta\n",
        "from scipy.stats import binom\n",
        "import emcee\n",
        "np.seterr(all=\"ignore\") #supresses  \"the invalid value encountered in double_scalars lnpdiff = f + nlp - state.log_prob[j]\" warning--it doesn't affect the MCMC\n"
      ]
    },
    {
      "cell_type": "markdown",
      "metadata": {
        "id": "M_XX40T-HF4a"
      },
      "source": [
        "#The model specification"
      ]
    },
    {
      "cell_type": "code",
      "execution_count": null,
      "metadata": {
        "id": "6FNAKrkXQ_Do"
      },
      "outputs": [],
      "source": [
        "\n",
        "\n",
        "#The prior distribution for the sensitivity, classifier A\n",
        "def log_prior_seA(se):  \n",
        "    a,b = 20,4\n",
        "    if se<=0.0: \n",
        "      return -np.inf\n",
        "    elif se>=1.0: \n",
        "      return np.inf\n",
        "    else: \n",
        "      return np.log(beta.pdf(se,a,b))\n",
        "\n",
        "\n",
        "#The prior distribution for the specificity, classifier A\n",
        "def log_prior_spA(sp):  \n",
        "    a,b = 20,4\n",
        "    if sp<=0.0: \n",
        "      return -np.inf\n",
        "    elif sp>=1.0: \n",
        "      return np.inf\n",
        "    else: \n",
        "      return np.log(beta.pdf(sp,a,b))\n",
        "\n",
        "\n",
        "#The prior distribution for the sensitivity, classifier B\n",
        "def log_prior_seB(se):  \n",
        "    a,b = 20,4\n",
        "    if se<=0.0: \n",
        "      return -np.inf\n",
        "    elif se>=1.0: \n",
        "      return np.inf\n",
        "    else: \n",
        "      return np.log(beta.pdf(se,a,b))\n",
        "\n",
        "#The prior distribution for the specificity, classifier B\n",
        "def log_prior_spB(sp):  \n",
        "    a,b = 20,4\n",
        "    if sp<=0.0: \n",
        "      return -np.inf\n",
        "    elif sp>=1.0: \n",
        "      return np.inf\n",
        "    else: \n",
        "      return np.log(beta.pdf(sp,a,b))\n",
        "\n",
        "#The prior distribution for the prevalence dataset 1\n",
        "def log_prior_prev1(prev):  \n",
        "    a,b = 4,20\n",
        "    if prev<=0.0: \n",
        "      return -np.inf\n",
        "    elif prev>=1.0: \n",
        "      return np.inf\n",
        "    else: \n",
        "      return np.log(beta.pdf(prev,a,b))\n",
        "\n",
        "#The prior distribution for the prevalence dataset 2\n",
        "def log_prior_prev2(prev):  \n",
        "    a,b = 20,4\n",
        "    if prev<=0.0: \n",
        "      return -np.inf\n",
        "    elif prev>=1.0: \n",
        "      return np.inf\n",
        "    else: \n",
        "      return np.log(beta.pdf(prev,a,b))\n",
        "\n",
        "#the likelihood for dataset 1\n",
        "def log_multinomial1(seA,spA,seB,spB,prev1):\n",
        "\n",
        "    k =[40,3,7,100]  #The data go here. The sum of the k's must sum to n\n",
        "    n = sum(k)          \n",
        "\n",
        "    p=[0,0,0,0]\n",
        "    p[0] = prev1*seA*seB + (1-prev1)*(1-spA)*(1-spB)  #pos on both\n",
        "    p[1] = prev1*seA*(1-seB) + (1-prev1)*(1-spA)*spB  #pos on CA, neg on CB\n",
        "    p[2] = prev1*(1-seA)*seB + (1-prev1)*spA*(1-spB)  #neg on CA, pos on CB\n",
        "    p[3] = prev1*(1-seA)*(1-seB) + (1-prev1)*spA*spB  #neg on both\n",
        "\n",
        "\n",
        "    if any([x<=0.0 for x in p]): \n",
        "      return -np.inf\n",
        "    elif any([x>=1.0 for x in p]): \n",
        "      return np.inf\n",
        "    else: \n",
        "      return np.log(sp.multinomial.pmf(k, n=n, p=p))\n",
        "\n",
        "#the likelihood for dataset 2\n",
        "def log_multinomial2(seA,spA,seB,spB,prev2):\n",
        "\n",
        "    k =[100,3,7,40]  #The data go here. The sum of the k's must sum to n\n",
        "    n = sum(k)          \n",
        "\n",
        "    p=[0,0,0,0]\n",
        "    p[0] = prev2*seA*seB + (1-prev2)*(1-spA)*(1-spB)  #pos on both\n",
        "    p[1] = prev2*seA*(1-seB) + (1-prev2)*(1-spA)*spB  #pos on CA, neg on CB\n",
        "    p[2] = prev2*(1-seA)*seB + (1-prev2)*spA*(1-spB)  #neg on CA, pos on CB\n",
        "    p[3] = prev2*(1-seA)*(1-seB) + (1-prev2)*spA*spB  #neg on both\n",
        "\n",
        "\n",
        "    if any([x<=0.0 for x in p]): \n",
        "      return -np.inf\n",
        "    elif any([x>=1.0 for x in p]): \n",
        "      return np.inf\n",
        "    else: \n",
        "      return np.log(sp.multinomial.pmf(k, n=n, p=p))\n",
        "\n",
        "#the log posterior distribtion\n",
        "def log_post(theta):\n",
        "    seA,spA,seB,spB,prev1, prev2 = theta\n",
        "    sum_priors = log_prior_seA(seA) + log_prior_spA(spA) + \\\n",
        "                 log_prior_seB(seB) + log_prior_spB(spB)+ \\\n",
        "                 log_prior_prev1(prev1) +log_prior_prev2(prev2)\n",
        "\n",
        "    lnprobval = log_multinomial1(seA,spA,seB,spB,prev1) + log_multinomial2(seA,spA,seB,spB,prev2) + sum_priors\n",
        "    if not np.isfinite(sum_priors):      #this if statement is from the emcee example\n",
        "        return -np.inf\n",
        "    return(lnprobval)\n",
        "\n"
      ]
    },
    {
      "cell_type": "markdown",
      "metadata": {
        "id": "w98iUbvOKww5"
      },
      "source": [
        "#Running the ensemble sampler"
      ]
    },
    {
      "cell_type": "code",
      "execution_count": null,
      "metadata": {
        "colab": {
          "base_uri": "https://localhost:8080/"
        },
        "id": "HyNqNl58S5Mm",
        "outputId": "3dd7cc39-3496-4290-a8df-00f27ef3a98b"
      },
      "outputs": [
        {
          "output_type": "stream",
          "name": "stdout",
          "text": [
            "CPU times: user 33min 30s, sys: 36.7 s, total: 34min 7s\n",
            "Wall time: 33min 34s\n"
          ]
        }
      ],
      "source": [
        "%%time\n",
        "\n",
        "ndim, nwalkers = 6, 18 #There are 6 dimensions (two sensitivity, two specificity, and two prevalences) I often use nwalkers = 3 x ndim\n",
        "\n",
        "# Starting positions for the walkers.\n",
        "p0 = [0.5 +(1e-2 * np.random.rand(ndim)) for i in range(nwalkers)]\n",
        "\n",
        "#make the sampler\n",
        "sampler = emcee.EnsembleSampler(nwalkers, ndim, log_post)\n",
        "\n",
        "#Run the sampler\n",
        "_ = sampler.run_mcmc(p0, nsteps=100000)\n"
      ]
    },
    {
      "cell_type": "markdown",
      "metadata": {
        "id": "LEuyFPV_OwGX"
      },
      "source": [
        "#Establishing convergence: Trace plots\n",
        "There are many ways to verify that the Markov Chains are a representative sample from the posterior distribution. I used an overly simple approach here becuase the focus of this notebook is on the model specification, rather than a particular MCMC methodology."
      ]
    },
    {
      "cell_type": "code",
      "execution_count": null,
      "metadata": {
        "colab": {
          "base_uri": "https://localhost:8080/",
          "height": 444
        },
        "id": "ktcAZBanpvSu",
        "outputId": "a3435cca-929d-4f3c-be7b-ba4f920b8249"
      },
      "outputs": [
        {
          "output_type": "display_data",
          "data": {
            "text/plain": [
              "<Figure size 720x504 with 6 Axes>"
            ],
            "image/png": "[encoded data removed]"
          },
          "metadata": {
            "needs_background": "light"
          }
        }
      ],
      "source": [
        "fig, axes = plt.subplots(6, figsize=(10, 7), sharex=True)\n",
        "samples = sampler.get_chain()\n",
        "labels = [\"SeA\", \"SpA\",\"SeB\", \"SpB\", \"Prev 1\", \"Prev 2\"]\n",
        "for i in range(ndim):\n",
        "    ax = axes[i]\n",
        "    ax.plot(samples[:, :, i], \"k\", alpha=0.3)\n",
        "    ax.set_xlim(0, len(samples))\n",
        "    ax.set_ylabel(labels[i])\n",
        "    ax.yaxis.set_label_coords(-0.1, 0.5)\n",
        "\n",
        "axes[-1].set_xlabel(\"step number\");"
      ]
    },
    {
      "cell_type": "markdown",
      "metadata": {
        "id": "o8p3LrwrhvTj"
      },
      "source": [
        "Each plot above has *ndim* number of walkers"
      ]
    },
    {
      "cell_type": "markdown",
      "metadata": {
        "id": "jkbdT-DFYjMY"
      },
      "source": [
        "#Thin and remove the burn in "
      ]
    },
    {
      "cell_type": "code",
      "execution_count": null,
      "metadata": {
        "colab": {
          "base_uri": "https://localhost:8080/"
        },
        "id": "TuxKlkeEM60P",
        "outputId": "7e140658-0c15-4d36-82cb-8efa243098c7"
      },
      "outputs": [
        {
          "output_type": "stream",
          "name": "stdout",
          "text": [
            "Mean autocorrelation time (the number of steps needed to forget): 82.834 steps\n"
          ]
        }
      ],
      "source": [
        "#A snippet from the emcee website\n",
        "print(\n",
        "    \"Mean autocorrelation time (the number of steps needed to forget): {0:.3f} steps\".format(\n",
        "        np.mean(sampler.get_autocorr_time())\n",
        "    )\n",
        ")"
      ]
    },
    {
      "cell_type": "code",
      "execution_count": null,
      "metadata": {
        "id": "GqALZYsgaYGv"
      },
      "outputs": [],
      "source": [
        "#For each step in the chain, I take the median across the walkers. That gives a single chain for each of the six parameters\n",
        "\n",
        "thin = 100 #thin the chains to reduce autocorrelation. Pick a number larger than the mean autocorrelation time\n",
        "\n",
        "burn_in = 150\n",
        "\n",
        "df_parameter_chains = pd.concat([pd.DataFrame(sampler.get_chain(thin=thin, discard=burn_in)[:,:,0]).median(axis=1),\n",
        "                                pd.DataFrame(sampler.get_chain(thin=thin, discard=burn_in)[:,:,1]).median(axis=1),\n",
        "                                pd.DataFrame(sampler.get_chain(thin=thin, discard=burn_in)[:,:,2]).median(axis=1),\n",
        "                                pd.DataFrame(sampler.get_chain(thin=thin, discard=burn_in)[:,:,3]).median(axis=1),\n",
        "                                pd.DataFrame(sampler.get_chain(thin=thin, discard=burn_in)[:,:,4]).median(axis=1),\n",
        "                                pd.DataFrame(sampler.get_chain(thin=thin, discard=burn_in)[:,:,5]).median(axis=1)],axis=1)\n",
        "\n",
        "df_parameter_chains.columns =['Sensitivity A', 'Specificity A', 'Sensitivity B', 'Specificity B', 'Prevalence 1','Prevalence 2']\n",
        "\n"
      ]
    },
    {
      "cell_type": "code",
      "execution_count": null,
      "metadata": {
        "colab": {
          "base_uri": "https://localhost:8080/"
        },
        "id": "wpPegCNAM5ys",
        "outputId": "132e0ad6-d71b-472a-c3ae-0fcace47e192"
      },
      "outputs": [
        {
          "output_type": "stream",
          "name": "stdout",
          "text": [
            "Mean acceptance fraction: 0.503\n"
          ]
        }
      ],
      "source": [
        "#A snippet from the emcee website\n",
        "print(\n",
        "    \"Mean acceptance fraction: {0:.3f}\".format(\n",
        "        np.mean(sampler.acceptance_fraction)\n",
        "    )\n",
        ")"
      ]
    },
    {
      "cell_type": "code",
      "execution_count": null,
      "metadata": {
        "id": "0cNQRNdOYowj"
      },
      "outputs": [],
      "source": [
        "#Choose the burn in size after looking at the plots\n",
        "burn_in = 100\n",
        "df_parameter_chains.drop(index=df_parameter_chains.index[:burn_in], \n",
        "        axis=0, \n",
        "        inplace=True)"
      ]
    },
    {
      "cell_type": "markdown",
      "metadata": {
        "id": "tOrEfAstl2op"
      },
      "source": [
        "#Posterior summaries (point estimates) for classifier sensitivity, <br> specificity, and dataset prevalence\n",
        "For example, for the classifier that produced the data for this analysis, we might use the medians and say the classifier's sensitivity is an appalling 0.499561\n"
      ]
    },
    {
      "cell_type": "code",
      "execution_count": null,
      "metadata": {
        "colab": {
          "base_uri": "https://localhost:8080/",
          "height": 300
        },
        "id": "yy_669m3vpxD",
        "outputId": "9cd9632e-3168-49ec-ca71-70c997f4ee90"
      },
      "outputs": [
        {
          "output_type": "execute_result",
          "data": {
            "text/plain": [
              "       Sensitivity A  Specificity A  Sensitivity B  Specificity B  \\\n",
              "count        898.000        898.000        898.000        898.000   \n",
              "mean           0.936          0.959          0.959          0.936   \n",
              "std            0.007          0.005          0.005          0.007   \n",
              "min            0.906          0.940          0.943          0.913   \n",
              "25%            0.932          0.956          0.955          0.932   \n",
              "50%            0.936          0.959          0.959          0.936   \n",
              "75%            0.941          0.963          0.962          0.941   \n",
              "max            0.953          0.971          0.973          0.956   \n",
              "\n",
              "       Prevalence 1  Prevalence 2  \n",
              "count       898.000       898.000  \n",
              "mean          0.267         0.733  \n",
              "std           0.010         0.010  \n",
              "min           0.239         0.700  \n",
              "25%           0.260         0.727  \n",
              "50%           0.267         0.733  \n",
              "75%           0.274         0.740  \n",
              "max           0.300         0.763  "
            ],
            "text/html": [
              "\n",
              "  <div id=\"df-4f2344ca-8ac1-492c-9e52-4f62aa228dde\">\n",
              "    <div class=\"colab-df-container\">\n",
              "      <div>\n",
              "<style scoped>\n",
              "    .dataframe tbody tr th:only-of-type {\n",
              "        vertical-align: middle;\n",
              "    }\n",
              "\n",
              "    .dataframe tbody tr th {\n",
              "        vertical-align: top;\n",
              "    }\n",
              "\n",
              "    .dataframe thead th {\n",
              "        text-align: right;\n",
              "    }\n",
              "</style>\n",
              "<table border=\"1\" class=\"dataframe\">\n",
              "  <thead>\n",
              "    <tr style=\"text-align: right;\">\n",
              "      <th></th>\n",
              "      <th>Sensitivity A</th>\n",
              "      <th>Specificity A</th>\n",
              "      <th>Sensitivity B</th>\n",
              "      <th>Specificity B</th>\n",
              "      <th>Prevalence 1</th>\n",
              "      <th>Prevalence 2</th>\n",
              "    </tr>\n",
              "  </thead>\n",
              "  <tbody>\n",
              "    <tr>\n",
              "      <th>count</th>\n",
              "      <td>898.000</td>\n",
              "      <td>898.000</td>\n",
              "      <td>898.000</td>\n",
              "      <td>898.000</td>\n",
              "      <td>898.000</td>\n",
              "      <td>898.000</td>\n",
              "    </tr>\n",
              "    <tr>\n",
              "      <th>mean</th>\n",
              "      <td>0.936</td>\n",
              "      <td>0.959</td>\n",
              "      <td>0.959</td>\n",
              "      <td>0.936</td>\n",
              "      <td>0.267</td>\n",
              "      <td>0.733</td>\n",
              "    </tr>\n",
              "    <tr>\n",
              "      <th>std</th>\n",
              "      <td>0.007</td>\n",
              "      <td>0.005</td>\n",
              "      <td>0.005</td>\n",
              "      <td>0.007</td>\n",
              "      <td>0.010</td>\n",
              "      <td>0.010</td>\n",
              "    </tr>\n",
              "    <tr>\n",
              "      <th>min</th>\n",
              "      <td>0.906</td>\n",
              "      <td>0.940</td>\n",
              "      <td>0.943</td>\n",
              "      <td>0.913</td>\n",
              "      <td>0.239</td>\n",
              "      <td>0.700</td>\n",
              "    </tr>\n",
              "    <tr>\n",
              "      <th>25%</th>\n",
              "      <td>0.932</td>\n",
              "      <td>0.956</td>\n",
              "      <td>0.955</td>\n",
              "      <td>0.932</td>\n",
              "      <td>0.260</td>\n",
              "      <td>0.727</td>\n",
              "    </tr>\n",
              "    <tr>\n",
              "      <th>50%</th>\n",
              "      <td>0.936</td>\n",
              "      <td>0.959</td>\n",
              "      <td>0.959</td>\n",
              "      <td>0.936</td>\n",
              "      <td>0.267</td>\n",
              "      <td>0.733</td>\n",
              "    </tr>\n",
              "    <tr>\n",
              "      <th>75%</th>\n",
              "      <td>0.941</td>\n",
              "      <td>0.963</td>\n",
              "      <td>0.962</td>\n",
              "      <td>0.941</td>\n",
              "      <td>0.274</td>\n",
              "      <td>0.740</td>\n",
              "    </tr>\n",
              "    <tr>\n",
              "      <th>max</th>\n",
              "      <td>0.953</td>\n",
              "      <td>0.971</td>\n",
              "      <td>0.973</td>\n",
              "      <td>0.956</td>\n",
              "      <td>0.300</td>\n",
              "      <td>0.763</td>\n",
              "    </tr>\n",
              "  </tbody>\n",
              "</table>\n",
              "</div>\n",
              "      <button class=\"colab-df-convert\" onclick=\"convertToInteractive('df-4f2344ca-8ac1-492c-9e52-4f62aa228dde')\"\n",
              "              title=\"Convert this dataframe to an interactive table.\"\n",
              "              style=\"display:none;\">\n",
              "        \n",
              "  <svg xmlns=\"http://www.w3.org/2000/svg\" height=\"24px\"viewBox=\"0 0 24 24\"\n",
              "       width=\"24px\">\n",
              "    <path d=\"M0 0h24v24H0V0z\" fill=\"none\"/>\n",
              "    <path d=\"M18.56 5.44l.94 2.06.94-2.06 2.06-.94-2.06-.94-.94-2.06-.94 2.06-2.06.94zm-11 1L8.5 8.5l.94-2.06 2.06-.94-2.06-.94L8.5 2.5l-.94 2.06-2.06.94zm10 10l.94 2.06.94-2.06 2.06-.94-2.06-.94-.94-2.06-.94 2.06-2.06.94z\"/><path d=\"M17.41 7.96l-1.37-1.37c-.4-.4-.92-.59-1.43-.59-.52 0-1.04.2-1.43.59L10.3 9.45l-7.72 7.72c-.78.78-.78 2.05 0 2.83L4 21.41c.39.39.9.59 1.41.59.51 0 1.02-.2 1.41-.59l7.78-7.78 2.81-2.81c.8-.78.8-2.07 0-2.86zM5.41 20L4 18.59l7.72-7.72 1.47 1.35L5.41 20z\"/>\n",
              "  </svg>\n",
              "      </button>\n",
              "      \n",
              "  <style>\n",
              "    .colab-df-container {\n",
              "      display:flex;\n",
              "      flex-wrap:wrap;\n",
              "      gap: 12px;\n",
              "    }\n",
              "\n",
              "    .colab-df-convert {\n",
              "      background-color: #E8F0FE;\n",
              "      border: none;\n",
              "      border-radius: 50%;\n",
              "      cursor: pointer;\n",
              "      display: none;\n",
              "      fill: #1967D2;\n",
              "      height: 32px;\n",
              "      padding: 0 0 0 0;\n",
              "      width: 32px;\n",
              "    }\n",
              "\n",
              "    .colab-df-convert:hover {\n",
              "      background-color: #E2EBFA;\n",
              "      box-shadow: 0px 1px 2px rgba(60, 64, 67, 0.3), 0px 1px 3px 1px rgba(60, 64, 67, 0.15);\n",
              "      fill: #174EA6;\n",
              "    }\n",
              "\n",
              "    [theme=dark] .colab-df-convert {\n",
              "      background-color: #3B4455;\n",
              "      fill: #D2E3FC;\n",
              "    }\n",
              "\n",
              "    [theme=dark] .colab-df-convert:hover {\n",
              "      background-color: #434B5C;\n",
              "      box-shadow: 0px 1px 3px 1px rgba(0, 0, 0, 0.15);\n",
              "      filter: drop-shadow(0px 1px 2px rgba(0, 0, 0, 0.3));\n",
              "      fill: #FFFFFF;\n",
              "    }\n",
              "  </style>\n",
              "\n",
              "      <script>\n",
              "        const buttonEl =\n",
              "          document.querySelector('#df-4f2344ca-8ac1-492c-9e52-4f62aa228dde button.colab-df-convert');\n",
              "        buttonEl.style.display =\n",
              "          google.colab.kernel.accessAllowed ? 'block' : 'none';\n",
              "\n",
              "        async function convertToInteractive(key) {\n",
              "          const element = document.querySelector('#df-4f2344ca-8ac1-492c-9e52-4f62aa228dde');\n",
              "          const dataTable =\n",
              "            await google.colab.kernel.invokeFunction('convertToInteractive',\n",
              "                                                     [key], {});\n",
              "          if (!dataTable) return;\n",
              "\n",
              "          const docLinkHtml = 'Like what you see? Visit the ' +\n",
              "            '<a target=\"_blank\" href=https://colab.research.google.com/notebooks/data_table.ipynb>data table notebook</a>'\n",
              "            + ' to learn more about interactive tables.';\n",
              "          element.innerHTML = '';\n",
              "          dataTable['output_type'] = 'display_data';\n",
              "          await google.colab.output.renderOutput(dataTable, element);\n",
              "          const docLink = document.createElement('div');\n",
              "          docLink.innerHTML = docLinkHtml;\n",
              "          element.appendChild(docLink);\n",
              "        }\n",
              "      </script>\n",
              "    </div>\n",
              "  </div>\n",
              "  "
            ]
          },
          "metadata": {},
          "execution_count": 9
        }
      ],
      "source": [
        "#summary statistics from the estimated posterior distributions of the parameters\n",
        "df_parameter_chains.describe().round(decimals=3)"
      ]
    },
    {
      "cell_type": "markdown",
      "source": [
        "The counts in the above table are the length of the Markov chains after burn in and thinning."
      ],
      "metadata": {
        "id": "UKO2XL_Ajwoj"
      }
    },
    {
      "cell_type": "code",
      "execution_count": null,
      "metadata": {
        "colab": {
          "base_uri": "https://localhost:8080/",
          "height": 281
        },
        "id": "wPVmB1555qdO",
        "outputId": "b3815915-ef66-4cc6-d56d-da3b323b4e24"
      },
      "outputs": [
        {
          "output_type": "display_data",
          "data": {
            "text/plain": [
              "<Figure size 432x288 with 1 Axes>"
            ],
            "image/png": "[encoded data removed]"
          },
          "metadata": {
            "needs_background": "light"
          }
        }
      ],
      "source": [
        "#Some histograms\n",
        "from matplotlib import pyplot\n",
        "\n",
        "x = df_parameter_chains['Sensitivity A']\n",
        "y = df_parameter_chains['Specificity A']\n",
        "z = df_parameter_chains['Prevalence 1']\n",
        "\n",
        "bins = np.linspace(0, 1, 50)\n",
        "\n",
        "pyplot.hist(x, bins, alpha=0.5, label='Sensitivity A')\n",
        "pyplot.hist(y, bins, alpha=0.5, label='Specificity A')\n",
        "pyplot.hist(z, bins, alpha=0.5, label='Prevalence 1')\n",
        "pyplot.legend(loc='upper right')\n",
        "pyplot.title('Histograms of parameter posterior distributions for one classifier')\n",
        "pyplot.show()"
      ]
    },
    {
      "cell_type": "markdown",
      "metadata": {
        "id": "RNDdumy9vAyy"
      },
      "source": [
        "#Confusion Matrix\n",
        "###Note: This matrix is for classifier A only. It is **not** a 2x2 table of classifier A and classifier B\n",
        "Our primary classifier is classifier A. The numbers in the top row are the sensitivity and 1-sensitivity, and in the bottom row, 1-specificity and specificity. Simply multiply the matrix by a sample size and round the decimal if you prefer integers in the confusion matrix. "
      ]
    },
    {
      "cell_type": "code",
      "execution_count": null,
      "metadata": {
        "colab": {
          "base_uri": "https://localhost:8080/",
          "height": 295
        },
        "id": "3nkbngaPIAId",
        "outputId": "ae4c194d-3b38-4561-b78e-a8dc2dbf7cae"
      },
      "outputs": [
        {
          "output_type": "display_data",
          "data": {
            "text/plain": [
              "<Figure size 432x288 with 2 Axes>"
            ],
            "image/png": "[encoded data removed]"
          },
          "metadata": {
            "needs_background": "light"
          }
        }
      ],
      "source": [
        "import seaborn as sns\n",
        "from sklearn.metrics import confusion_matrix\n",
        "\n",
        "\n",
        "#make the elements of the confusion matrix\n",
        "cm11 = df_parameter_chains['Sensitivity A'].median()\n",
        "cm12 = 1-df_parameter_chains['Sensitivity A'].median()\n",
        "cm21 = 1-df_parameter_chains['Specificity A'].median()\n",
        "cm22 = df_parameter_chains['Specificity A'].median()\n",
        "\n",
        "\n",
        "cm = np.array([[cm11,cm12],[cm21,cm22]])\n",
        "\n",
        "#A snippet to plot a seaborn heatmap\n",
        "ax= plt.subplot()\n",
        "sns.heatmap(cm, annot=True, fmt='g', ax=ax);  #annot=True to annotate cells, ftm='g' to disable scientific notation\n",
        "\n",
        "# labels, title and ticks\n",
        "ax.set_xlabel('Predicted labels classifier A');ax.set_ylabel('True labels'); \n",
        "ax.set_title('Confusion Matrix'); \n",
        "ax.xaxis.set_ticklabels(['1', '0']); ax.yaxis.set_ticklabels(['1', '0']);"
      ]
    },
    {
      "cell_type": "markdown",
      "metadata": {
        "id": "iqtq5ANZAX_r"
      },
      "source": [
        "#Accuracy summaries for classifier A\n",
        "The real advantage of using the Bayesian approach is that it's easy to express uncertain about estimates. The table below uses the estimates of the posterior distributions (the Markov chain from the emcee sampler) to give summaries. For example, the standard deviations (std) of the accuracy statistics (e.g., F1) represents uncertainty about the mean. Likewise the 25th and 75th percentiles give uncertain about the median. "
      ]
    },
    {
      "cell_type": "code",
      "execution_count": null,
      "metadata": {
        "colab": {
          "base_uri": "https://localhost:8080/"
        },
        "id": "JBqgNg8KL1Bt",
        "outputId": "d2c49c69-1e87-4da7-d2aa-5b8192da4662"
      },
      "outputs": [
        {
          "output_type": "execute_result",
          "data": {
            "text/plain": [
              "       Accuracy   Recall      PPV       F1\n",
              "count   898.000  898.000  898.000  898.000\n",
              "mean      0.953    0.936    0.842    0.887\n",
              "std       0.004    0.007    0.016    0.012\n",
              "min       0.940    0.906    0.764    0.829\n",
              "25%       0.950    0.932    0.831    0.879\n",
              "50%       0.953    0.936    0.842    0.887\n",
              "75%       0.956    0.941    0.853    0.894\n",
              "max       0.965    0.953    0.884    0.917"
            ],
            "text/html": [
              "\n",
              "  <div id=\"df-3e60d06c-f2c4-49f4-b743-3b8df3181f9f\">\n",
              "    <div class=\"colab-df-container\">\n",
              "      <div>\n",
              "<style scoped>\n",
              "    .dataframe tbody tr th:only-of-type {\n",
              "        vertical-align: middle;\n",
              "    }\n",
              "\n",
              "    .dataframe tbody tr th {\n",
              "        vertical-align: top;\n",
              "    }\n",
              "\n",
              "    .dataframe thead th {\n",
              "        text-align: right;\n",
              "    }\n",
              "</style>\n",
              "<table border=\"1\" class=\"dataframe\">\n",
              "  <thead>\n",
              "    <tr style=\"text-align: right;\">\n",
              "      <th></th>\n",
              "      <th>Accuracy</th>\n",
              "      <th>Recall</th>\n",
              "      <th>PPV</th>\n",
              "      <th>F1</th>\n",
              "    </tr>\n",
              "  </thead>\n",
              "  <tbody>\n",
              "    <tr>\n",
              "      <th>count</th>\n",
              "      <td>898.000</td>\n",
              "      <td>898.000</td>\n",
              "      <td>898.000</td>\n",
              "      <td>898.000</td>\n",
              "    </tr>\n",
              "    <tr>\n",
              "      <th>mean</th>\n",
              "      <td>0.953</td>\n",
              "      <td>0.936</td>\n",
              "      <td>0.842</td>\n",
              "      <td>0.887</td>\n",
              "    </tr>\n",
              "    <tr>\n",
              "      <th>std</th>\n",
              "      <td>0.004</td>\n",
              "      <td>0.007</td>\n",
              "      <td>0.016</td>\n",
              "      <td>0.012</td>\n",
              "    </tr>\n",
              "    <tr>\n",
              "      <th>min</th>\n",
              "      <td>0.940</td>\n",
              "      <td>0.906</td>\n",
              "      <td>0.764</td>\n",
              "      <td>0.829</td>\n",
              "    </tr>\n",
              "    <tr>\n",
              "      <th>25%</th>\n",
              "      <td>0.950</td>\n",
              "      <td>0.932</td>\n",
              "      <td>0.831</td>\n",
              "      <td>0.879</td>\n",
              "    </tr>\n",
              "    <tr>\n",
              "      <th>50%</th>\n",
              "      <td>0.953</td>\n",
              "      <td>0.936</td>\n",
              "      <td>0.842</td>\n",
              "      <td>0.887</td>\n",
              "    </tr>\n",
              "    <tr>\n",
              "      <th>75%</th>\n",
              "      <td>0.956</td>\n",
              "      <td>0.941</td>\n",
              "      <td>0.853</td>\n",
              "      <td>0.894</td>\n",
              "    </tr>\n",
              "    <tr>\n",
              "      <th>max</th>\n",
              "      <td>0.965</td>\n",
              "      <td>0.953</td>\n",
              "      <td>0.884</td>\n",
              "      <td>0.917</td>\n",
              "    </tr>\n",
              "  </tbody>\n",
              "</table>\n",
              "</div>\n",
              "      <button class=\"colab-df-convert\" onclick=\"convertToInteractive('df-3e60d06c-f2c4-49f4-b743-3b8df3181f9f')\"\n",
              "              title=\"Convert this dataframe to an interactive table.\"\n",
              "              style=\"display:none;\">\n",
              "        \n",
              "  <svg xmlns=\"http://www.w3.org/2000/svg\" height=\"24px\"viewBox=\"0 0 24 24\"\n",
              "       width=\"24px\">\n",
              "    <path d=\"M0 0h24v24H0V0z\" fill=\"none\"/>\n",
              "    <path d=\"M18.56 5.44l.94 2.06.94-2.06 2.06-.94-2.06-.94-.94-2.06-.94 2.06-2.06.94zm-11 1L8.5 8.5l.94-2.06 2.06-.94-2.06-.94L8.5 2.5l-.94 2.06-2.06.94zm10 10l.94 2.06.94-2.06 2.06-.94-2.06-.94-.94-2.06-.94 2.06-2.06.94z\"/><path d=\"M17.41 7.96l-1.37-1.37c-.4-.4-.92-.59-1.43-.59-.52 0-1.04.2-1.43.59L10.3 9.45l-7.72 7.72c-.78.78-.78 2.05 0 2.83L4 21.41c.39.39.9.59 1.41.59.51 0 1.02-.2 1.41-.59l7.78-7.78 2.81-2.81c.8-.78.8-2.07 0-2.86zM5.41 20L4 18.59l7.72-7.72 1.47 1.35L5.41 20z\"/>\n",
              "  </svg>\n",
              "      </button>\n",
              "      \n",
              "  <style>\n",
              "    .colab-df-container {\n",
              "      display:flex;\n",
              "      flex-wrap:wrap;\n",
              "      gap: 12px;\n",
              "    }\n",
              "\n",
              "    .colab-df-convert {\n",
              "      background-color: #E8F0FE;\n",
              "      border: none;\n",
              "      border-radius: 50%;\n",
              "      cursor: pointer;\n",
              "      display: none;\n",
              "      fill: #1967D2;\n",
              "      height: 32px;\n",
              "      padding: 0 0 0 0;\n",
              "      width: 32px;\n",
              "    }\n",
              "\n",
              "    .colab-df-convert:hover {\n",
              "      background-color: #E2EBFA;\n",
              "      box-shadow: 0px 1px 2px rgba(60, 64, 67, 0.3), 0px 1px 3px 1px rgba(60, 64, 67, 0.15);\n",
              "      fill: #174EA6;\n",
              "    }\n",
              "\n",
              "    [theme=dark] .colab-df-convert {\n",
              "      background-color: #3B4455;\n",
              "      fill: #D2E3FC;\n",
              "    }\n",
              "\n",
              "    [theme=dark] .colab-df-convert:hover {\n",
              "      background-color: #434B5C;\n",
              "      box-shadow: 0px 1px 3px 1px rgba(0, 0, 0, 0.15);\n",
              "      filter: drop-shadow(0px 1px 2px rgba(0, 0, 0, 0.3));\n",
              "      fill: #FFFFFF;\n",
              "    }\n",
              "  </style>\n",
              "\n",
              "      <script>\n",
              "        const buttonEl =\n",
              "          document.querySelector('#df-3e60d06c-f2c4-49f4-b743-3b8df3181f9f button.colab-df-convert');\n",
              "        buttonEl.style.display =\n",
              "          google.colab.kernel.accessAllowed ? 'block' : 'none';\n",
              "\n",
              "        async function convertToInteractive(key) {\n",
              "          const element = document.querySelector('#df-3e60d06c-f2c4-49f4-b743-3b8df3181f9f');\n",
              "          const dataTable =\n",
              "            await google.colab.kernel.invokeFunction('convertToInteractive',\n",
              "                                                     [key], {});\n",
              "          if (!dataTable) return;\n",
              "\n",
              "          const docLinkHtml = 'Like what you see? Visit the ' +\n",
              "            '<a target=\"_blank\" href=https://colab.research.google.com/notebooks/data_table.ipynb>data table notebook</a>'\n",
              "            + ' to learn more about interactive tables.';\n",
              "          element.innerHTML = '';\n",
              "          dataTable['output_type'] = 'display_data';\n",
              "          await google.colab.output.renderOutput(dataTable, element);\n",
              "          const docLink = document.createElement('div');\n",
              "          docLink.innerHTML = docLinkHtml;\n",
              "          element.appendChild(docLink);\n",
              "        }\n",
              "      </script>\n",
              "    </div>\n",
              "  </div>\n",
              "  "
            ]
          },
          "metadata": {},
          "execution_count": 12
        }
      ],
      "source": [
        "se_A = df_parameter_chains['Sensitivity A']                 #rename to simplify construction of the summary table\n",
        "sp_A = df_parameter_chains['Specificity A']\n",
        "prev_1 = df_parameter_chains['Prevalence 1']\n",
        "ppv = (se_A * prev_1 /(se_A*prev_1 +((1-se_A)*(1-prev_1)))) #define the positive predictive value (ppv)\n",
        "\n",
        "\n",
        "df_accuracy = pd.concat([se_A*prev_1 + (sp_A*(1-prev_1)),   #combine four accuacy statisitcs into a pandas dataframe\n",
        "                      se_A,      \n",
        "                      ppv,     \n",
        "                      (2*ppv*se_A/(ppv+se_A))], axis=1)\n",
        "\n",
        "df_accuracy.columns = ['Accuracy','Recall','PPV','F1']      #label the columns\n",
        "\n",
        "df_accuracy.describe().round(decimals=3)"
      ]
    },
    {
      "cell_type": "markdown",
      "metadata": {
        "id": "wHy4kBse-RxG"
      },
      "source": [
        "#Discussion\n",
        "The model specification presented in this notebook allows the estimation of senstivity and specificity using unlabeled data. The model has been used successfully in biostatistics for over 40 years. That said, althougth all the parameters in this model are estimable, the Markov chains may be highly correlated and caution is alway required running MCMC."
      ]
    },
    {
      "cell_type": "code",
      "source": [],
      "metadata": {
        "id": "5L6sihfDjPdE"
      },
      "execution_count": null,
      "outputs": []
    }
  ],
  "metadata": {
    "colab": {
      "collapsed_sections": [],
      "name": "two classifiers two unlabeled datasets model.ipynb",
      "provenance": [],
      "authorship_tag": "ABX9TyMFi6ncIXsVS0Lgwirx2lYv",
      "include_colab_link": true
    },
    "gpuClass": "standard",
    "kernelspec": {
      "display_name": "Python 3",
      "name": "python3"
    },
    "language_info": {
      "name": "python"
    }
  },
  "nbformat": 4,
  "nbformat_minor": 0
}